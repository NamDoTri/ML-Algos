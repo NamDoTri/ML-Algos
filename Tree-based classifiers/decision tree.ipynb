{
 "cells": [
  {
   "cell_type": "code",
   "execution_count": 69,
   "metadata": {},
   "outputs": [],
   "source": [
    "import numpy as np\n",
    "import pandas as pd\n",
    "from sklearn.model_selection import train_test_split\n",
    "from decision_tree import DecisionTreeClassifier"
   ]
  },
  {
   "cell_type": "code",
   "execution_count": 70,
   "metadata": {},
   "outputs": [],
   "source": [
    "X, y = np.arange(5), range(5)\n",
    "X_train, X_test, y_train, y_test = train_test_split(X, y, test_size = 0.2)"
   ]
  },
  {
   "cell_type": "code",
   "execution_count": 71,
   "metadata": {},
   "outputs": [
    {
     "output_type": "execute_result",
     "data": {
      "text/plain": "       0   1   2   3   4   5   6  7\n0    -64 -56 -61 -66 -71 -82 -81  1\n1    -68 -57 -61 -65 -71 -85 -85  1\n2    -63 -60 -60 -67 -76 -85 -84  1\n3    -61 -60 -68 -62 -77 -90 -80  1\n4    -63 -65 -60 -63 -77 -81 -87  1\n...   ..  ..  ..  ..  ..  ..  .. ..\n1995 -59 -59 -48 -66 -50 -86 -94  4\n1996 -59 -56 -50 -62 -47 -87 -90  4\n1997 -62 -59 -46 -65 -45 -87 -88  4\n1998 -62 -58 -52 -61 -41 -90 -85  4\n1999 -59 -50 -45 -60 -45 -88 -87  4\n\n[2000 rows x 8 columns]",
      "text/html": "<div>\n<style scoped>\n    .dataframe tbody tr th:only-of-type {\n        vertical-align: middle;\n    }\n\n    .dataframe tbody tr th {\n        vertical-align: top;\n    }\n\n    .dataframe thead th {\n        text-align: right;\n    }\n</style>\n<table border=\"1\" class=\"dataframe\">\n  <thead>\n    <tr style=\"text-align: right;\">\n      <th></th>\n      <th>0</th>\n      <th>1</th>\n      <th>2</th>\n      <th>3</th>\n      <th>4</th>\n      <th>5</th>\n      <th>6</th>\n      <th>7</th>\n    </tr>\n  </thead>\n  <tbody>\n    <tr>\n      <td>0</td>\n      <td>-64</td>\n      <td>-56</td>\n      <td>-61</td>\n      <td>-66</td>\n      <td>-71</td>\n      <td>-82</td>\n      <td>-81</td>\n      <td>1</td>\n    </tr>\n    <tr>\n      <td>1</td>\n      <td>-68</td>\n      <td>-57</td>\n      <td>-61</td>\n      <td>-65</td>\n      <td>-71</td>\n      <td>-85</td>\n      <td>-85</td>\n      <td>1</td>\n    </tr>\n    <tr>\n      <td>2</td>\n      <td>-63</td>\n      <td>-60</td>\n      <td>-60</td>\n      <td>-67</td>\n      <td>-76</td>\n      <td>-85</td>\n      <td>-84</td>\n      <td>1</td>\n    </tr>\n    <tr>\n      <td>3</td>\n      <td>-61</td>\n      <td>-60</td>\n      <td>-68</td>\n      <td>-62</td>\n      <td>-77</td>\n      <td>-90</td>\n      <td>-80</td>\n      <td>1</td>\n    </tr>\n    <tr>\n      <td>4</td>\n      <td>-63</td>\n      <td>-65</td>\n      <td>-60</td>\n      <td>-63</td>\n      <td>-77</td>\n      <td>-81</td>\n      <td>-87</td>\n      <td>1</td>\n    </tr>\n    <tr>\n      <td>...</td>\n      <td>...</td>\n      <td>...</td>\n      <td>...</td>\n      <td>...</td>\n      <td>...</td>\n      <td>...</td>\n      <td>...</td>\n      <td>...</td>\n    </tr>\n    <tr>\n      <td>1995</td>\n      <td>-59</td>\n      <td>-59</td>\n      <td>-48</td>\n      <td>-66</td>\n      <td>-50</td>\n      <td>-86</td>\n      <td>-94</td>\n      <td>4</td>\n    </tr>\n    <tr>\n      <td>1996</td>\n      <td>-59</td>\n      <td>-56</td>\n      <td>-50</td>\n      <td>-62</td>\n      <td>-47</td>\n      <td>-87</td>\n      <td>-90</td>\n      <td>4</td>\n    </tr>\n    <tr>\n      <td>1997</td>\n      <td>-62</td>\n      <td>-59</td>\n      <td>-46</td>\n      <td>-65</td>\n      <td>-45</td>\n      <td>-87</td>\n      <td>-88</td>\n      <td>4</td>\n    </tr>\n    <tr>\n      <td>1998</td>\n      <td>-62</td>\n      <td>-58</td>\n      <td>-52</td>\n      <td>-61</td>\n      <td>-41</td>\n      <td>-90</td>\n      <td>-85</td>\n      <td>4</td>\n    </tr>\n    <tr>\n      <td>1999</td>\n      <td>-59</td>\n      <td>-50</td>\n      <td>-45</td>\n      <td>-60</td>\n      <td>-45</td>\n      <td>-88</td>\n      <td>-87</td>\n      <td>4</td>\n    </tr>\n  </tbody>\n</table>\n<p>2000 rows × 8 columns</p>\n</div>"
     },
     "metadata": {},
     "execution_count": 71
    }
   ],
   "source": [
    "data = pd.read_csv(\".\\wifi_localization.txt\", sep=\"\\t\", header=None)\n",
    "data"
   ]
  }
 ],
 "metadata": {
  "language_info": {
   "codemirror_mode": {
    "name": "ipython",
    "version": 3
   },
   "file_extension": ".py",
   "mimetype": "text/x-python",
   "name": "python",
   "nbconvert_exporter": "python",
   "pygments_lexer": "ipython3",
   "version": "3.7.4-final"
  },
  "orig_nbformat": 2,
  "kernelspec": {
   "name": "python3",
   "display_name": "Python 3"
  }
 },
 "nbformat": 4,
 "nbformat_minor": 2
}