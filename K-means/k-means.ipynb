{
 "cells": [
  {
   "cell_type": "code",
   "execution_count": 1,
   "metadata": {},
   "outputs": [],
   "source": [
    "import numpy as np\n",
    "from collections import defaultdict \n",
    "\n",
    "# number of clusters \n",
    "K = 3\n",
    "\n",
    "class point():\n",
    "    def __init__(self, data):\n",
    "        self.data = data\n",
    "        self.k = np.random.randint(0,K)\n",
    "    \n",
    "    def __repr__(self):\n",
    "        return str({\"data\": self.data, \"k\": self.k})"
   ]
  },
  {
   "cell_type": "code",
   "execution_count": 2,
   "metadata": {},
   "outputs": [],
   "source": [
    "# number of data points in total\n",
    "N = 200\n",
    "data1 = np.random.randn(N//3, 2) + np.array([5, 6])\n",
    "data2 = np.random.randn(N//3, 2) + np.array([-5, -6])\n",
    "data3 = np.random.randn(N//3, 2) + np.array([-10, 3])\n",
    "data = np.concatenate((data1, data2, data3))"
   ]
  },
  {
   "cell_type": "code",
   "execution_count": 3,
   "metadata": {},
   "outputs": [],
   "source": [
    "points = [point(d) for d in data]"
   ]
  },
  {
   "cell_type": "code",
   "execution_count": 4,
   "metadata": {},
   "outputs": [],
   "source": [
    "def make_k_mapping(points):\n",
    "    point_dict = defaultdict(list) # each element in the dict is a list\n",
    "    for p in points:\n",
    "        point_dict[p.k] = point_dict[p.k] + [p.data] # append new data points to the list\n",
    "    return point_dict"
   ]
  },
  {
   "cell_type": "code",
   "execution_count": 5,
   "metadata": {},
   "outputs": [],
   "source": [
    "def calc_k_means(point_dict):\n",
    "    return [np.mean(point_dict[k], axis=0) for k in range(K)] # todo: plot the changes of these"
   ]
  },
  {
   "cell_type": "code",
   "execution_count": 6,
   "metadata": {},
   "outputs": [],
   "source": [
    "def update_k(points, means):\n",
    "    for p in points:\n",
    "        distances = [np.linalg.norm(means[k]-p.data) for k in range(K)]  # calculate distances from each point to each mean\n",
    "        p.k = np.argmin(distances) # assign point to the nearest cluster"
   ]
  },
  {
   "cell_type": "code",
   "execution_count": 7,
   "metadata": {},
   "outputs": [],
   "source": [
    "def fit(points, epochs = 10):\n",
    "    for e in range(epochs):\n",
    "        point_dict = make_k_mapping(points)\n",
    "        means = calc_k_means(point_dict)\n",
    "        update_k(points, means)\n",
    "    return means, points"
   ]
  },
  {
   "cell_type": "code",
   "execution_count": 8,
   "metadata": {},
   "outputs": [
    {
     "output_type": "execute_result",
     "data": {
      "text/plain": "[array([4.94130148, 5.81981546]),\n array([-10.14397415,   2.90692553]),\n array([-4.85511077, -6.01602397])]"
     },
     "metadata": {},
     "execution_count": 8
    }
   ],
   "source": [
    "new_means, new_points = fit(points)\n",
    "new_means"
   ]
  },
  {
   "cell_type": "code",
   "execution_count": 9,
   "metadata": {},
   "outputs": [
    {
     "output_type": "execute_result",
     "data": {
      "text/plain": "[array([-10.14397415,   2.90692553]),\n array([4.94130148, 5.81981546]),\n array([-4.85511077, -6.01602397])]"
     },
     "metadata": {},
     "execution_count": 9
    }
   ],
   "source": [
    "from k_means import KMeans\n",
    "clt = KMeans(3)\n",
    "clt.fit(data)\n",
    "clt.means"
   ]
  }
 ],
 "metadata": {
  "language_info": {
   "codemirror_mode": {
    "name": "ipython",
    "version": 3
   },
   "file_extension": ".py",
   "mimetype": "text/x-python",
   "name": "python",
   "nbconvert_exporter": "python",
   "pygments_lexer": "ipython3",
   "version": "3.7.4-final"
  },
  "orig_nbformat": 2,
  "kernelspec": {
   "name": "python3",
   "display_name": "Python 3"
  }
 },
 "nbformat": 4,
 "nbformat_minor": 2
}